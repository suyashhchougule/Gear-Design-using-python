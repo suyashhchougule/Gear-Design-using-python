{
 "cells": [
  {
   "cell_type": "markdown",
   "metadata": {},
   "source": [
    "## Python program for calculating module , diameter of Helical Gear and Pinion"
   ]
  },
  {
   "cell_type": "code",
   "execution_count": 1,
   "metadata": {},
   "outputs": [],
   "source": [
    "import numpy as np\n",
    "import math\n",
    "from sympy.solvers import solve\n",
    "from sympy import Symbol"
   ]
  },
  {
   "cell_type": "markdown",
   "metadata": {},
   "source": [
    "## Taking Input values "
   ]
  },
  {
   "cell_type": "code",
   "execution_count": 2,
   "metadata": {},
   "outputs": [
    {
     "name": "stdout",
     "output_type": "stream",
     "text": [
      "enter gear ratio 10\n",
      "Enter pressure angle 20\n",
      "Enter ultimate tensile strength of pinion material / Sut 2400\n",
      "Enter ultimate tensile strength of gear material / Sut 2400\n",
      "Enter type of type of teeth , \n",
      "seletct 1 for 20 degree full depth involute \n",
      "seletct 2 for 20 degree stub involute \n",
      "Select 3 for  14.5 degree  full involut and composite1\n",
      "Enter BHN for pinion 550\n",
      "Enter BHN for gear 550\n",
      "Enter application factor 1.5\n",
      "Enter  load factor 1.6\n",
      "Enter pinion rpm1440\n",
      "Enter gear rpm144\n",
      "Enter width10\n",
      " Enter power25000\n",
      "Select velocity factor  \n",
      "choose 1 for 6/(6+v) \n",
      "choose 2 for 5.6/(5.6+v)2\n",
      "Enter FOS 2\n",
      "Enter helix angle12.5\n"
     ]
    }
   ],
   "source": [
    "G1=float(input(\"enter gear ratio \"))\n",
    "Phi=int(input(\"Enter pressure angle \"))\n",
    "Sut_p=int(input(\"Enter ultimate tensile strength of pinion material / Sut \"))\n",
    "Sut_g=int(input(\"Enter ultimate tensile strength of gear material / Sut \"))\n",
    "Teeth_type=int(input(\"Enter type of type of teeth , \\nseletct 1 for 20 degree full depth involute \\nseletct 2 for 20 degree stub involute \\nSelect 3 for  14.5 degree  full involut and composite\"))          \n",
    "BHN_p = int(input(\"Enter BHN for pinion \"))\n",
    "BHN_g= int(input(\"Enter BHN for gear \"))\n",
    "K_a=float(input(\"Enter application factor \"))   \n",
    "K_m=float(input(\"Enter  load factor \"))          \n",
    "N_p=int(input(\"Enter pinion rpm\"))          \n",
    "N_g=int(input(\"Enter gear rpm\"))            \n",
    "b=int(input(\"Enter width\" ))  \n",
    "p=int(input(\" Enter power\"))\n",
    "K_v_choice=int(input(\"Select velocity factor  \\nchoose 1 for 6/(6+v) \\nchoose 2 for 5.6/(5.6+v)\"))\n",
    "N_f=float(input(\"Enter FOS \"))  \n",
    "Helix=float(input(\"Enter helix angle\"))"
   ]
  },
  {
   "cell_type": "code",
   "execution_count": 4,
   "metadata": {},
   "outputs": [],
   "source": [
    "def Teeth(Teeth_type,z) :         \n",
    "    if Teeth_type==1 :\n",
    "        y = 0.484 -2.87/z\n",
    "        print(y)\n",
    "        \n",
    "    elif Teeth_type==2 :\n",
    "          y= 0.55 - 2.64/z \n",
    "            \n",
    "    elif Teeth_type==3 :\n",
    "          y= 0.39 - 2.15/z \n",
    "    return y        \n"
   ]
  },
  {
   "cell_type": "code",
   "execution_count": 5,
   "metadata": {},
   "outputs": [],
   "source": [
    "def eq(F_w,F_b,F_eff) :\n",
    "\n",
    "    F_w=F_w/m**2\n",
    "    F_b=F_b/m**2\n",
    "\n",
    "    if F_w < F_b :\n",
    "        \n",
    "        F_w=F_w*m**2\n",
    "        F_b=F_b*m**2\n",
    "        \n",
    "        Equation1 = N_f*F_eff-F_w \n",
    "\n",
    "    else :\n",
    "        F_w=F_w*m**2\n",
    "        F_b=F_b*m**2        \n",
    "        \n",
    "        Equation1 = N_f*F_eff-F_b\n",
    "        \n",
    "    \n",
    "            \n",
    "        \n",
    "    return Equation1\n"
   ]
  },
  {
   "cell_type": "code",
   "execution_count": 6,
   "metadata": {},
   "outputs": [],
   "source": [
    "m = Symbol('m')"
   ]
  },
  {
   "cell_type": "code",
   "execution_count": 10,
   "metadata": {},
   "outputs": [],
   "source": [
    "def helical_gear(G1,Phi,Sut_p,Sut_g,Teeth_type,BHN_p,BHN_g,K_a,K_m,N_p,N_g,b,p,K_v_choice,N_f,Helix) :\n",
    "    \n",
    "    rad=math.pi*Phi/180\n",
    "    \n",
    "    Z_min=(2)//pow(math.sin(rad), 2)\n",
    "    \n",
    "    if Z_min%2!=0 :\n",
    "       Z_min=Z_min+1\n",
    "       print(\"Z_min = {}\".format(Z_min))\n",
    "    else :\n",
    "        print(\"Z_min = {}\".format(Z_min))\n",
    "        \n",
    "    Z_p = Z_min\n",
    "    print(\"no. of teeth on pinion is {}\\n\".format(Z_p))\n",
    "    \n",
    "    Z_g=int(G1*Z_p)\n",
    "    print(\"no. of gear on pinion is {}\\n\".format(Z_g))\n",
    "    \n",
    "    while(Z_g%2!=0):\n",
    "        Z_g+=1\n",
    "        \n",
    "    print(\"no. of new teeth on pinion is {}\\n\".format(Z_g))\n",
    "        \n",
    "    Sigma_bp= Sut_p/3\n",
    "    Sigma_bg= Sut_g/3\n",
    "    \n",
    "    Helix_rad= math.pi*Helix/180\n",
    "    \n",
    "    Zp_dash= Z_p/(math.cos(Helix_rad)**3)\n",
    "    Zg_dash= Z_g/(math.cos(Helix_rad)**3)\n",
    "    \n",
    "#     print(Zp_dash)\n",
    "\n",
    "#     print(Teeth_type)          \n",
    "    Y_p= Teeth(Teeth_type,Zp_dash) \n",
    "    \n",
    "    \n",
    "    Y_g= Teeth(Teeth_type,Zg_dash) \n",
    "    \n",
    "\n",
    "    \n",
    "              \n",
    "\n",
    "              \n",
    "    def beam_strength(sigma,b,y):\n",
    "              \n",
    "        return sigma*b*y*m*m\n",
    "              \n",
    "#     print(m) \n",
    "         \n",
    "    v= math.pi*Z_p*N_p*(m)/(60000*math.cos(Helix_rad))\n",
    "    \n",
    "    def vel_fact(K_v_choice):\n",
    "\n",
    "        if K_v_choice==1:\n",
    "                K_v=6/6+v\n",
    "        elif K_v_choice==2:\n",
    "\n",
    "                K_v=5.6/(5.6+v**(1/2))\n",
    "        return K_v\n",
    "\n",
    "    print(\"v= {}\\n\".format(v))\n",
    "#     print(K_v_choice)    \n",
    "\n",
    "\n",
    "    \n",
    "    K_v=vel_fact(K_v_choice)\n",
    "    \n",
    "    print(\"velocity factor is {}\\n\".format(K_v))\n",
    "    \n",
    "    F_t=p/v\n",
    "    \n",
    "    print(\"F_t/ = {}\\n\".format(F_t))\n",
    "    \n",
    "       \n",
    "    F_eff= (K_a*K_m*F_t/K_v)\n",
    "    \n",
    "    print(\"F_eff is {}\\n\" .format(F_eff) )\n",
    "    \n",
    "    \n",
    "    \n",
    "    \n",
    " \n",
    "    if BHN_p==BHN_g :\n",
    "        F_b=beam_strength(Sigma_bp,b,Y_p)\n",
    "        print(\"beam  strength is {}\\n\".format(F_b))\n",
    "        \n",
    "    else :\n",
    "        \n",
    "        if Sigma_bp*Y_p < Sigma_bg*Y_g :\n",
    "            F_b= beam_strength(Sigma_bp,b,Y_p)\n",
    "        \n",
    "        elif Sigma_bp*Y_p > Sigma_bg*Y_g :\n",
    "            F_b= beam_strength(Sigma_bg,b,Y_pg)\n",
    "            \n",
    "            \n",
    "   \n",
    "    def Sel_k(BHN):\n",
    "        \n",
    "        return 0.16*pow((BHN/100),2)\n",
    "        \n",
    "    if BHN_p <= BHN_g :\n",
    "        \n",
    "        K=Sel_k(BHN_p)\n",
    "    else :\n",
    "        K=Sel_k(BHN_g)\n",
    "        \n",
    "    print(\"Value of k is {}\\n\".format(K))\n",
    "\n",
    "    Q=2*Z_g/(Z_g+Z_p)\n",
    "    \n",
    "    print(\"Q is {}\\n\".format(Q))\n",
    "\n",
    "    \n",
    "    F_w= m*Z_p*b*Q*K*m/(math.cos(Helix_rad)**2)\n",
    "    \n",
    "    print(\"Wear strength is {}\\n\".format(F_w)) \n",
    "    \n",
    "    Equation=eq(F_w,F_b,F_eff)\n",
    "    \n",
    "    print(\"Equation is {}\\n\".format(Equation))\n",
    "   \n",
    "    res=solve(Equation, m) \n",
    "    \n",
    "    \n",
    "#     print(res)    \n",
    "    return res\n",
    "#     print(solve(2*F_eff-F_w,m))   \n",
    "        \n",
    "    "
   ]
  },
  {
   "cell_type": "code",
   "execution_count": 11,
   "metadata": {},
   "outputs": [],
   "source": [
    "# helical_gear(G1,Phi,Sut_p,Sut_g,Teeth_type,BHN_p,BHN_g,K_a,K_m,N_p,N_g,b,p,K_v_choice,N_f,Helix)"
   ]
  },
  {
   "cell_type": "code",
   "execution_count": 12,
   "metadata": {},
   "outputs": [
    {
     "name": "stdout",
     "output_type": "stream",
     "text": [
      "Z_min = 18.0\n",
      "no. of teeth on pinion is 18.0\n",
      "\n",
      "no. of gear on pinion is 180\n",
      "\n",
      "no. of new teeth on pinion is 180\n",
      "\n",
      "0.33562732350085456\n",
      "0.46916273235008543\n",
      "v= 1.39011940687377*m\n",
      "\n",
      "velocity factor is 5.6/(1.17903325096189*m**0.5 + 5.6)\n",
      "\n",
      "F_t/ = 17984.0666034743/m\n",
      "\n",
      "F_eff is 43161.7598483382*(0.210541651957481*m**0.5 + 1.0)/m\n",
      "\n",
      "beam  strength is 2685.01858800684*m**2\n",
      "\n",
      "Value of k is 4.84\n",
      "\n",
      "Q is 1.8181818181818181\n",
      "\n",
      "Wear strength is 1661.85126113588*m**2\n",
      "\n",
      "Equation is -1661.85126113588*m**2 + 86323.5196966765*(0.210541651957481*m**0.5 + 1.0)/m\n",
      "\n",
      "4\n",
      "normal module is 4\n",
      "\n"
     ]
    }
   ],
   "source": [
    "module=int(helical_gear(G1,Phi,Sut_p,Sut_g,Teeth_type,BHN_p,BHN_g,K_a,K_m,N_p,N_g,b,p,K_v_choice,N_f,Helix)[0])\n",
    "print(module)\n",
    "\n",
    "while(module%2!=0):\n",
    "    module+=1\n",
    "\n",
    "print(\"normal module is {}\\n\".format(module))\n",
    "    "
   ]
  },
  {
   "cell_type": "code",
   "execution_count": 13,
   "metadata": {},
   "outputs": [
    {
     "name": "stdout",
     "output_type": "stream",
     "text": [
      "Transverse module is 4.035501062068166\n"
     ]
    }
   ],
   "source": [
    "mt=module/(math.cos(25))\n",
    "print(\"Transverse module is {}\".format(mt))"
   ]
  },
  {
   "cell_type": "code",
   "execution_count": 14,
   "metadata": {},
   "outputs": [
    {
     "name": "stdout",
     "output_type": "stream",
     "text": [
      "Diameter of Pinion and gear in mm reaspectively are 72.63901911722698 and 726.3901911722699\n"
     ]
    }
   ],
   "source": [
    "dp=mt*18\n",
    "dg=mt*180\n",
    "print(\"Diameter of Pinion and gear in mm reaspectively are {} and {}\".format(dp,dg))"
   ]
  },
  {
   "cell_type": "code",
   "execution_count": 15,
   "metadata": {},
   "outputs": [
    {
     "name": "stdout",
     "output_type": "stream",
     "text": [
      "Adendum and dedendum values rep. are 4 and 5.0\n"
     ]
    }
   ],
   "source": [
    "ha=1*module\n",
    "hf=1.25*module\n",
    "print(\"Adendum and dedendum values rep. are {} and {}\".format(ha,hf))"
   ]
  }
 ],
 "metadata": {
  "kernelspec": {
   "display_name": "Python 3",
   "language": "python",
   "name": "python3"
  },
  "language_info": {
   "codemirror_mode": {
    "name": "ipython",
    "version": 3
   },
   "file_extension": ".py",
   "mimetype": "text/x-python",
   "name": "python",
   "nbconvert_exporter": "python",
   "pygments_lexer": "ipython3",
   "version": "3.7.6"
  }
 },
 "nbformat": 4,
 "nbformat_minor": 4
}
